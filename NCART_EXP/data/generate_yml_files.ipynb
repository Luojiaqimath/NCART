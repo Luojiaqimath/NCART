{
 "cells": [
  {
   "cell_type": "code",
   "execution_count": 1,
   "metadata": {},
   "outputs": [],
   "source": [
    "import yaml\n",
    "import os\n",
    "import pickle\n",
    "import numpy as np\n",
    "import random"
   ]
  },
  {
   "cell_type": "code",
   "execution_count": 2,
   "metadata": {},
   "outputs": [],
   "source": [
    "data_path_list = [\"num_and_cat/classification/\",\n",
    "                \"numerical_only/classification/\",\n",
    "                \"num_and_cat/regression/\",\n",
    "                \"numerical_only/regression/\"]"
   ]
  },
  {
   "cell_type": "code",
   "execution_count": 3,
   "metadata": {},
   "outputs": [],
   "source": [
    "# generate yml files\n",
    "for i in range(4):\n",
    "    load_path = data_path_list[i]\n",
    "        \n",
    "    for data_name in os.listdir(load_path):\n",
    "        data = pickle.load(open(load_path + data_name, 'rb'))\n",
    "        X = data[0]\n",
    "        y = data[1]\n",
    "        num_features = X.shape[1]\n",
    "        if i < 2 and np.max(y) < 2:\n",
    "            objective = \"binary\"\n",
    "            direction = \"maximize\"\n",
    "            num_classes = 1\n",
    "        elif i < 2 and np.max(y) > 1:\n",
    "            objective = \"classification\"\n",
    "            direction = \"minimize\"\n",
    "            num_classes = len(np.unique(y))\n",
    "        else:\n",
    "            objective = \"regression\"\n",
    "            direction = \"minimize\"\n",
    "            num_classes = 1\n",
    "                    \n",
    "        if len(data) == 3:  # last is cat index\n",
    "            cat_idx = data[2]\n",
    "            cat_dims = [len(np.unique(X[:, i])) for i in cat_idx]\n",
    "            data_dict = {\n",
    "                \"dataset\": data_name,\n",
    "                \"objective\": objective,\n",
    "                \"direction\": direction,\n",
    "                \"num_classes\": num_classes,  \n",
    "                \"num_features\": num_features,\n",
    "                \"cat_idx\": cat_idx,\n",
    "                \"cat_dims\": cat_dims,\n",
    "            }\n",
    "        else:\n",
    "            data_dict = {\n",
    "                \"dataset\": data_name,\n",
    "                \"objective\": objective,\n",
    "                \"direction\": direction,\n",
    "                \"num_classes\": num_classes,  \n",
    "                \"num_features\": num_features,\n",
    "            }\n",
    "\n",
    "        yml_save_path = '../config/'\n",
    "        if not os.path.exists(yml_save_path):\n",
    "            os.makedirs(yml_save_path)\n",
    "        with open(yml_save_path+\"{}.yml\".format(data_name), \"w\") as f:\n",
    "            yaml.dump(data_dict, f, sort_keys=False)"
   ]
  },
  {
   "cell_type": "code",
   "execution_count": null,
   "metadata": {},
   "outputs": [],
   "source": []
  }
 ],
 "metadata": {
  "kernelspec": {
   "display_name": "base",
   "language": "python",
   "name": "python3"
  },
  "language_info": {
   "codemirror_mode": {
    "name": "ipython",
    "version": 3
   },
   "file_extension": ".py",
   "mimetype": "text/x-python",
   "name": "python",
   "nbconvert_exporter": "python",
   "pygments_lexer": "ipython3",
   "version": "3.10.9"
  },
  "orig_nbformat": 4,
  "vscode": {
   "interpreter": {
    "hash": "7ed999faa5743a97fd1779ad6b235c831720d8033546bba8b0dfe2340e5f08dc"
   }
  }
 },
 "nbformat": 4,
 "nbformat_minor": 2
}
